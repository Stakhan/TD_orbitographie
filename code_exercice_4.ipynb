{
 "metadata": {
  "language_info": {
   "codemirror_mode": {
    "name": "ipython",
    "version": 3
   },
   "file_extension": ".py",
   "mimetype": "text/x-python",
   "name": "python",
   "nbconvert_exporter": "python",
   "pygments_lexer": "ipython3",
   "version": "3.9.1-final"
  },
  "orig_nbformat": 2,
  "kernelspec": {
   "name": "python3",
   "display_name": "Python 3"
  }
 },
 "nbformat": 4,
 "nbformat_minor": 2,
 "cells": [
  {
   "source": [
    "# Exercice 4 - Calcul d'orbite : analyse d'un fichier d'orbite\n",
    "\n",
    "### Chargement du fichier d'orbite"
   ],
   "cell_type": "markdown",
   "metadata": {}
  },
  {
   "cell_type": "code",
   "execution_count": 6,
   "metadata": {},
   "outputs": [
    {
     "output_type": "execute_result",
     "data": {
      "text/plain": [
       "       date  nb_of_sec             x             y             z          v_x  \\\n",
       "0     25965       90.0  7.676584e+06  9.416919e+06  2.074684e+06  2078.263900   \n",
       "1     25965      180.0  7.856955e+06  9.361547e+06  1.600113e+06  1929.389714   \n",
       "2     25965      270.0  8.023775e+06  9.290031e+06  1.122780e+06  1777.209954   \n",
       "3     25965      360.0  8.176761e+06  9.202496e+06  6.435100e+05  1621.985233   \n",
       "4     25965      450.0  8.315649e+06  9.099096e+06  1.631291e+05  1463.981127   \n",
       "...     ...        ...           ...           ...           ...          ...   \n",
       "8639  25974        0.0 -6.004062e+06 -9.709677e+06 -4.369468e+06 -2755.268866   \n",
       "8640  25974       90.0 -6.246656e+06 -9.748374e+06 -3.916877e+06 -2634.902046   \n",
       "8641  25974      180.0 -6.478203e+06 -9.769834e+06 -3.457354e+06 -2509.839508   \n",
       "8642  25974      270.0 -6.698292e+06 -9.774013e+06 -2.991710e+06 -2380.303100   \n",
       "8643  25974      360.0 -6.906531e+06 -9.760900e+06 -2.520768e+06 -2246.523211   \n",
       "\n",
       "              v_y          v_z  \n",
       "0     -525.168390 -5254.624034  \n",
       "1     -705.142024 -5289.874808  \n",
       "2     -883.873822 -5315.990789  \n",
       "3    -1061.059086 -5332.929832  \n",
       "4    -1236.395842 -5340.665161  \n",
       "...           ...          ...  \n",
       "8639  -525.495359  4987.306223  \n",
       "8640  -334.316175  5068.793054  \n",
       "8641  -142.488894  5141.331833  \n",
       "8642    49.642485  5204.787136  \n",
       "8643   241.732989  5259.040192  \n",
       "\n",
       "[8644 rows x 8 columns]"
      ],
      "text/html": "<div>\n<style scoped>\n    .dataframe tbody tr th:only-of-type {\n        vertical-align: middle;\n    }\n\n    .dataframe tbody tr th {\n        vertical-align: top;\n    }\n\n    .dataframe thead th {\n        text-align: right;\n    }\n</style>\n<table border=\"1\" class=\"dataframe\">\n  <thead>\n    <tr style=\"text-align: right;\">\n      <th></th>\n      <th>date</th>\n      <th>nb_of_sec</th>\n      <th>x</th>\n      <th>y</th>\n      <th>z</th>\n      <th>v_x</th>\n      <th>v_y</th>\n      <th>v_z</th>\n    </tr>\n  </thead>\n  <tbody>\n    <tr>\n      <th>0</th>\n      <td>25965</td>\n      <td>90.0</td>\n      <td>7.676584e+06</td>\n      <td>9.416919e+06</td>\n      <td>2.074684e+06</td>\n      <td>2078.263900</td>\n      <td>-525.168390</td>\n      <td>-5254.624034</td>\n    </tr>\n    <tr>\n      <th>1</th>\n      <td>25965</td>\n      <td>180.0</td>\n      <td>7.856955e+06</td>\n      <td>9.361547e+06</td>\n      <td>1.600113e+06</td>\n      <td>1929.389714</td>\n      <td>-705.142024</td>\n      <td>-5289.874808</td>\n    </tr>\n    <tr>\n      <th>2</th>\n      <td>25965</td>\n      <td>270.0</td>\n      <td>8.023775e+06</td>\n      <td>9.290031e+06</td>\n      <td>1.122780e+06</td>\n      <td>1777.209954</td>\n      <td>-883.873822</td>\n      <td>-5315.990789</td>\n    </tr>\n    <tr>\n      <th>3</th>\n      <td>25965</td>\n      <td>360.0</td>\n      <td>8.176761e+06</td>\n      <td>9.202496e+06</td>\n      <td>6.435100e+05</td>\n      <td>1621.985233</td>\n      <td>-1061.059086</td>\n      <td>-5332.929832</td>\n    </tr>\n    <tr>\n      <th>4</th>\n      <td>25965</td>\n      <td>450.0</td>\n      <td>8.315649e+06</td>\n      <td>9.099096e+06</td>\n      <td>1.631291e+05</td>\n      <td>1463.981127</td>\n      <td>-1236.395842</td>\n      <td>-5340.665161</td>\n    </tr>\n    <tr>\n      <th>...</th>\n      <td>...</td>\n      <td>...</td>\n      <td>...</td>\n      <td>...</td>\n      <td>...</td>\n      <td>...</td>\n      <td>...</td>\n      <td>...</td>\n    </tr>\n    <tr>\n      <th>8639</th>\n      <td>25974</td>\n      <td>0.0</td>\n      <td>-6.004062e+06</td>\n      <td>-9.709677e+06</td>\n      <td>-4.369468e+06</td>\n      <td>-2755.268866</td>\n      <td>-525.495359</td>\n      <td>4987.306223</td>\n    </tr>\n    <tr>\n      <th>8640</th>\n      <td>25974</td>\n      <td>90.0</td>\n      <td>-6.246656e+06</td>\n      <td>-9.748374e+06</td>\n      <td>-3.916877e+06</td>\n      <td>-2634.902046</td>\n      <td>-334.316175</td>\n      <td>5068.793054</td>\n    </tr>\n    <tr>\n      <th>8641</th>\n      <td>25974</td>\n      <td>180.0</td>\n      <td>-6.478203e+06</td>\n      <td>-9.769834e+06</td>\n      <td>-3.457354e+06</td>\n      <td>-2509.839508</td>\n      <td>-142.488894</td>\n      <td>5141.331833</td>\n    </tr>\n    <tr>\n      <th>8642</th>\n      <td>25974</td>\n      <td>270.0</td>\n      <td>-6.698292e+06</td>\n      <td>-9.774013e+06</td>\n      <td>-2.991710e+06</td>\n      <td>-2380.303100</td>\n      <td>49.642485</td>\n      <td>5204.787136</td>\n    </tr>\n    <tr>\n      <th>8643</th>\n      <td>25974</td>\n      <td>360.0</td>\n      <td>-6.906531e+06</td>\n      <td>-9.760900e+06</td>\n      <td>-2.520768e+06</td>\n      <td>-2246.523211</td>\n      <td>241.732989</td>\n      <td>5259.040192</td>\n    </tr>\n  </tbody>\n</table>\n<p>8644 rows × 8 columns</p>\n</div>"
     },
     "metadata": {},
     "execution_count": 6
    }
   ],
   "source": [
    "import pandas as pd\n",
    "data = pd.read_csv('extract_orbite',\n",
    "                    sep=' ',\n",
    "                    names=['date','nb_of_sec','x','y','z','v_x','v_y','v_z'],\n",
    "                    index_col=False,\n",
    "                    header = 1)\n",
    "data"
   ]
  },
  {
   "cell_type": "code",
   "execution_count": null,
   "metadata": {},
   "outputs": [],
   "source": []
  }
 ]
}